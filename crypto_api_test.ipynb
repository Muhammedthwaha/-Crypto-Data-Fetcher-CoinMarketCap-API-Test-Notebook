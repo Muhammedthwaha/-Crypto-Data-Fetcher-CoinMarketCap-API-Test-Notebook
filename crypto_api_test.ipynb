{
 "cells": [
  {
   "cell_type": "markdown",
   "metadata": {},
   "source": [
    "# Crypto Data Fetcher - CoinMarketCap API Test Notebook\n",
    "\n",
    "This notebook demonstrates how to fetch and analyze real-time cryptocurrency data from the CoinMarketCap API using Python and Pandas."
   ]
  },
  {
   "cell_type": "markdown",
   "metadata": {},
   "source": [
    "## Setup\n",
    "\n",
    "First, let's import the necessary libraries and set up our API key."
   ]
  },
  {
   "cell_type": "code",
   "execution_count": null,
   "metadata": {},
   "outputs": [],
   "source": [
    "import os\n",
    "import requests\n",
    "import pandas as pd\n",
    "from crypto_fetcher import CryptoDataFetcher\n",
    "\n",
    "# Set your API key here or use environment variable\n",
    "# os.environ['COINMARKETCAP_API_KEY'] = 'your-api-key-here'\n",
    "\n",
    "print(\"Libraries imported successfully!\")"
   ]
  },
  {
   "cell_type": "markdown",
   "metadata": {},
   "source": [
    "## Initialize the CryptoDataFetcher\n",
    "\n",
    "Create an instance of the CryptoDataFetcher class. Make sure you have set your CoinMarketCap API key."
   ]
  },
  {
   "cell_type": "code",
   "execution_count": null,
   "metadata": {},
   "outputs": [],
   "source": [
    "# Initialize the fetcher\n",
    "fetcher = CryptoDataFetcher()\n",
    "print(\"CryptoDataFetcher initialized successfully!\")"
   ]
  },
  {
   "cell_type": "markdown",
   "metadata": {},
   "source": [
    "## Fetch Top 10 Cryptocurrencies\n",
    "\n",
    "Let's fetch the top 10 cryptocurrencies by market cap."
   ]
  },
  {
   "cell_type": "code",
   "execution_count": null,
   "metadata": {},
   "outputs": [],
   "source": [
    "# Fetch top 10 cryptocurrencies\n",
    "df = fetcher.get_latest_listings(limit=10)\n",
    "print(\"Data fetched successfully!\")\n",
    "df"
   ]
  },
  {
   "cell_type": "markdown",
   "metadata": {},
   "source": [
    "## Display Data in Clean Format\n",
    "\n",
    "Use the built-in display method for a formatted view."
   ]
  },
  {
   "cell_type": "code",
   "execution_count": null,
   "metadata": {},
   "outputs": [],
   "source": [
    "fetcher.display_data(df)"
   ]
  },
  {
   "cell_type": "markdown",
   "metadata": {},
   "source": [
    "## Fetch More Cryptocurrencies\n",
    "\n",
    "You can fetch more cryptocurrencies by changing the limit parameter."
   ]
  },
  {
   "cell_type": "code",
   "execution_count": null,
   "metadata": {},
   "outputs": [],
   "source": [
    "# Fetch top 20 cryptocurrencies\n",
    "df_20 = fetcher.get_latest_listings(limit=20)\n",
    "df_20"
   ]
  },
  {
   "cell_type": "markdown",
   "metadata": {},
   "source": [
    "## Data Analysis Examples\n",
    "\n",
    "Now let's do some basic analysis on the data. First, we need to convert the formatted strings back to numeric values for analysis."
   ]
  },
  {
   "cell_type": "code",
   "execution_count": null,
   "metadata": {},
   "outputs": [],
   "source": [
    "# For analysis, let's get raw data without formatting\n",
    "# We'll fetch the data again and work with it before formatting\n",
    "url = f\"{fetcher.BASE_URL}/cryptocurrency/listings/latest\"\n",
    "parameters = {'limit': 10, 'convert': 'USD'}\n",
    "response = requests.get(url, headers=fetcher.headers, params=parameters)\n",
    "data = response.json()['data']\n",
    "\n",
    "# Create a DataFrame with numeric values\n",
    "analysis_data = []\n",
    "for crypto in data:\n",
    "    quote = crypto['quote']['USD']\n",
    "    analysis_data.append({\n",
    "        'Name': crypto['name'],\n",
    "        'Symbol': crypto['symbol'],\n",
    "        'Price': quote['price'],\n",
    "        'Market_Cap': quote['market_cap'],\n",
    "        'Volume_24h': quote['volume_24h'],\n",
    "        'Change_24h': quote['percent_change_24h']\n",
    "    })\n",
    "\n",
    "df_analysis = pd.DataFrame(analysis_data)\n",
    "df_analysis"
   ]
  },
  {
   "cell_type": "markdown",
   "metadata": {},
   "source": [
    "### Top Gainers (24h)"
   ]
  },
  {
   "cell_type": "code",
   "execution_count": null,
   "metadata": {},
   "outputs": [],
   "source": [
    "# Top gainers in the last 24 hours\n",
    "top_gainers = df_analysis.nlargest(5, 'Change_24h')[['Name', 'Symbol', 'Change_24h']]\n",
    "print(\"Top 5 Gainers (24h):\")\n",
    "top_gainers"
   ]
  },
  {
   "cell_type": "markdown",
   "metadata": {},
   "source": [
    "### Top Losers (24h)"
   ]
  },
  {
   "cell_type": "code",
   "execution_count": null,
   "metadata": {},
   "outputs": [],
   "source": [
    "# Top losers in the last 24 hours\n",
    "top_losers = df_analysis.nsmallest(5, 'Change_24h')[['Name', 'Symbol', 'Change_24h']]\n",
    "print(\"Top 5 Losers (24h):\")\n",
    "top_losers"
   ]
  },
  {
   "cell_type": "markdown",
   "metadata": {},
   "source": [
    "### Highest Trading Volume"
   ]
  },
  {
   "cell_type": "code",
   "execution_count": null,
   "metadata": {},
   "outputs": [],
   "source": [
    "# Cryptocurrencies with highest 24h trading volume\n",
    "high_volume = df_analysis.nlargest(5, 'Volume_24h')[['Name', 'Symbol', 'Volume_24h']]\n",
    "print(\"Top 5 by Trading Volume (24h):\")\n",
    "high_volume"
   ]
  },
  {
   "cell_type": "markdown",
   "metadata": {},
   "source": [
    "### Summary Statistics"
   ]
  },
  {
   "cell_type": "code",
   "execution_count": null,
   "metadata": {},
   "outputs": [],
   "source": [
    "# Get summary statistics\n",
    "print(\"Summary Statistics:\")\n",
    "print(f\"\\nAverage Price: ${df_analysis['Price'].mean():,.2f}\")\n",
    "print(f\"Total Market Cap: ${df_analysis['Market_Cap'].sum():,.0f}\")\n",
    "print(f\"Average 24h Change: {df_analysis['Change_24h'].mean():.2f}%\")\n",
    "print(f\"\\nPrice Range: ${df_analysis['Price'].min():,.2f} - ${df_analysis['Price'].max():,.2f}\")"
   ]
  },
  {
   "cell_type": "markdown",
   "metadata": {},
   "source": [
    "## Visualization (Optional)\n",
    "\n",
    "If you have matplotlib installed, you can create visualizations of the data."
   ]
  },
  {
   "cell_type": "code",
   "execution_count": null,
   "metadata": {},
   "outputs": [],
   "source": [
    "# Uncomment to install matplotlib if needed\n",
    "# !pip install matplotlib\n",
    "\n",
    "try:\n",
    "    import matplotlib.pyplot as plt\n",
    "    \n",
    "    # Create a bar chart of 24h price changes\n",
    "    plt.figure(figsize=(12, 6))\n",
    "    colors = ['green' if x > 0 else 'red' for x in df_analysis['Change_24h']]\n",
    "    plt.bar(df_analysis['Symbol'], df_analysis['Change_24h'], color=colors)\n",
    "    plt.xlabel('Cryptocurrency')\n",
    "    plt.ylabel('24h Price Change (%)')\n",
    "    plt.title('24-Hour Price Change by Cryptocurrency')\n",
    "    plt.xticks(rotation=45)\n",
    "    plt.axhline(y=0, color='black', linestyle='-', linewidth=0.5)\n",
    "    plt.tight_layout()\n",
    "    plt.show()\n",
    "except ImportError:\n",
    "    print(\"Matplotlib not installed. Skipping visualization.\")"
   ]
  },
  {
   "cell_type": "markdown",
   "metadata": {},
   "source": [
    "## Conclusion\n",
    "\n",
    "This notebook demonstrated how to:\n",
    "1. Connect to the CoinMarketCap API\n",
    "2. Fetch real-time cryptocurrency data\n",
    "3. Transform and format data using Pandas\n",
    "4. Perform basic analysis on cryptocurrency metrics\n",
    "5. Display data in clean, organized formats\n",
    "\n",
    "You can extend this notebook by:\n",
    "- Fetching historical data\n",
    "- Creating more advanced visualizations\n",
    "- Implementing alerts for price changes\n",
    "- Exporting data to CSV or databases\n",
    "- Building a dashboard"
   ]
  }
 ],
 "metadata": {
  "kernelspec": {
   "display_name": "Python 3",
   "language": "python",
   "name": "python3"
  },
  "language_info": {
   "codemirror_mode": {
    "name": "ipython",
    "version": 3
   },
   "file_extension": ".py",
   "mimetype": "text/x-python",
   "name": "python",
   "nbconvert_exporter": "python",
   "pygments_lexer": "ipython3",
   "version": "3.8.0"
  }
 },
 "nbformat": 4,
 "nbformat_minor": 4
}
